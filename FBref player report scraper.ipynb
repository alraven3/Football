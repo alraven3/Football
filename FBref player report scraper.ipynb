{
 "cells": [
  {
   "cell_type": "markdown",
   "id": "8343417d",
   "metadata": {},
   "source": [
    "# FBref Player Report Scraper"
   ]
  },
  {
   "cell_type": "markdown",
   "id": "d1951d19",
   "metadata": {},
   "source": [
    "*This is a scraper for extracting the data from FBref's player scouting reports. The goal is to scrape the three columns of the full scouting report: Stats (the column with the names of each metric), Per 90 Values, and Percentiles.*"
   ]
  },
  {
   "cell_type": "code",
   "execution_count": 1,
   "id": "c4aede78",
   "metadata": {},
   "outputs": [],
   "source": [
    "import requests\n",
    "from bs4 import BeautifulSoup\n",
    "import csv\n",
    "import pandas as pd"
   ]
  },
  {
   "cell_type": "code",
   "execution_count": 2,
   "id": "d9143b5a",
   "metadata": {},
   "outputs": [
    {
     "data": {
      "text/plain": [
       "<Response [200]>"
      ]
     },
     "execution_count": 2,
     "metadata": {},
     "output_type": "execute_result"
    }
   ],
   "source": [
    "url = 'https://fbref.com/en/players/507c7bdf/scout/365_m1/Bruno-Fernandes-Scouting-Report'\n",
    "page = requests.get(url)\n",
    "page"
   ]
  },
  {
   "cell_type": "code",
   "execution_count": 3,
   "id": "f1d21251",
   "metadata": {},
   "outputs": [
    {
     "name": "stdout",
     "output_type": "stream",
     "text": [
      "Requirement already satisfied: lxml in c:\\users\\al raven\\anaconda3\\lib\\site-packages (4.9.3)\n",
      "Note: you may need to restart the kernel to use updated packages.\n"
     ]
    }
   ],
   "source": [
    "pip install lxml"
   ]
  },
  {
   "cell_type": "code",
   "execution_count": 4,
   "id": "2d0b7995",
   "metadata": {},
   "outputs": [],
   "source": [
    "soup = BeautifulSoup(page.text,'lxml')"
   ]
  },
  {
   "cell_type": "code",
   "execution_count": 5,
   "id": "24685047",
   "metadata": {},
   "outputs": [
    {
     "name": "stdout",
     "output_type": "stream",
     "text": [
      "['stats_table', 'sortable', 'suppress_partial', 'suppress_share', 'suppress_link']\n",
      "['stats_table', 'sortable', 'suppress_partial', 'suppress_share', 'suppress_link']\n",
      "['stats_table', 'sortable', 'min_width', 'suppress_glossary', 'suppress_partial', 'suppress_share', 'suppress_link']\n",
      "['stats_table', 'sortable', 'min_width', 'suppress_glossary', 'suppress_partial', 'suppress_share', 'suppress_link']\n",
      "['stats_table', 'sortable', 'suppress_partial', 'suppress_share', 'suppress_link']\n",
      "['stats_table', 'sortable', 'suppress_partial', 'suppress_share', 'suppress_link']\n"
     ]
    }
   ],
   "source": [
    "for table in soup.find_all('table'):\n",
    "  print(table.get('class'))"
   ]
  },
  {
   "cell_type": "code",
   "execution_count": 6,
   "id": "b704c037",
   "metadata": {},
   "outputs": [],
   "source": [
    "table = soup.find('table', id=\"scout_full_AM\")"
   ]
  },
  {
   "cell_type": "markdown",
   "id": "e87dcb09",
   "metadata": {},
   "source": [
    "About the table id: \n",
    "- it's for the full scouting report (\"scout_full_XX\"), not the summary one, which is \"scout_summary_XX\"\n",
    "- the 'XX' is for the position (group): \"GK\" for goalkeepers, \"CB\" for centre-backs, \"FB\" for full-backs, \"MF\" for midfielders, \"AM\" for att. midfielders/wingers, \"FW\" for centre forwards/strikers/etc."
   ]
  },
  {
   "cell_type": "code",
   "execution_count": 7,
   "id": "30251dec",
   "metadata": {},
   "outputs": [],
   "source": [
    "headers = table.find('thead')"
   ]
  },
  {
   "cell_type": "code",
   "execution_count": 8,
   "id": "78de7919",
   "metadata": {},
   "outputs": [
    {
     "data": {
      "text/plain": [
       "<thead> <tr class=\"over_header\"> <th aria-label=\"\" class=\"over_header center group_start\" colspan=\"3\" data-stat=\"header_standard\">Standard Stats</th> </tr> <tr> <th aria-label=\"Statistic\" class=\"poptip center\" data-over-header=\"Standard Stats\" data-stat=\"statistic\" data-tip=\"Hover over stat name for glossary definition\" scope=\"col\">Statistic</th> <th aria-label=\"Per 90\" class=\"poptip center\" data-over-header=\"Standard Stats\" data-stat=\"per90\" data-tip=\"Stats are listed in values per 90 minutes played or as percentages\" scope=\"col\">Per 90</th> <th aria-label=\"Percentile\" class=\"poptip center\" data-over-header=\"Standard Stats\" data-stat=\"percentile\" scope=\"col\">Percentile</th> </tr> </thead>"
      ]
     },
     "execution_count": 8,
     "metadata": {},
     "output_type": "execute_result"
    }
   ],
   "source": [
    "headers"
   ]
  },
  {
   "cell_type": "code",
   "execution_count": 9,
   "id": "aab9d3d1",
   "metadata": {},
   "outputs": [],
   "source": [
    "data_rows = table.find('tbody')"
   ]
  },
  {
   "cell_type": "code",
   "execution_count": 10,
   "id": "840fa087",
   "metadata": {
    "scrolled": true
   },
   "outputs": [],
   "source": [
    "#data_rows.find_all('th',{'class':\"right poptip endpoint endpoint\"})"
   ]
  },
  {
   "cell_type": "code",
   "execution_count": 11,
   "id": "26388843",
   "metadata": {},
   "outputs": [
    {
     "data": {
      "text/plain": [
       "'Goals'"
      ]
     },
     "execution_count": 11,
     "metadata": {},
     "output_type": "execute_result"
    }
   ],
   "source": [
    "data_rows.find('th',{'class':\"right poptip endpoint endpoint\"}).text.strip()"
   ]
  },
  {
   "cell_type": "code",
   "execution_count": 12,
   "id": "b36faac3",
   "metadata": {
    "scrolled": true
   },
   "outputs": [
    {
     "data": {
      "text/plain": [
       "[<td class=\"right\" csk=\"0.24\" data-stat=\"per90\">0.24</td>,\n",
       " <td class=\"right\" csk=\"0.30\" data-stat=\"per90\">0.30</td>,\n",
       " <td class=\"right\" csk=\"0.54\" data-stat=\"per90\">0.54</td>,\n",
       " <td class=\"right\" csk=\"0.16\" data-stat=\"per90\">0.16</td>,\n",
       " <td class=\"right\" csk=\"0.08\" data-stat=\"per90\">0.08</td>,\n",
       " <td class=\"right\" csk=\"0.10\" data-stat=\"per90\">0.10</td>,\n",
       " <td class=\"right\" csk=\"0.22\" data-stat=\"per90\">0.22</td>,\n",
       " <td class=\"right iz\" csk=\"0.00\" data-stat=\"per90\">0.00</td>,\n",
       " <td class=\"right\" csk=\"0.29\" data-stat=\"per90\">0.29</td>,\n",
       " <td class=\"right\" csk=\"0.21\" data-stat=\"per90\">0.21</td>,\n",
       " <td class=\"right\" csk=\"0.48\" data-stat=\"per90\">0.48</td>,\n",
       " <td class=\"right\" csk=\"0.69\" data-stat=\"per90\">0.69</td>,\n",
       " <td class=\"right iz\" data-stat=\"per90\" style=\"padding:1px;\"></td>,\n",
       " <td class=\"right\" csk=\"2.19\" data-stat=\"per90\">2.19</td>,\n",
       " <td class=\"right\" csk=\"7.88\" data-stat=\"per90\">7.88</td>,\n",
       " <td class=\"right\" csk=\"5.91\" data-stat=\"per90\">5.91</td>,\n",
       " <td class=\"right\" csk=\"0.24\" data-stat=\"per90\">0.24</td>,\n",
       " <td class=\"right\" csk=\"2.53\" data-stat=\"per90\">2.53</td>,\n",
       " <td class=\"right\" csk=\"0.88\" data-stat=\"per90\">0.88</td>,\n",
       " <td class=\"right\" csk=\"34.6\" data-stat=\"per90\">34.6%</td>,\n",
       " <td class=\"right\" csk=\"0.06\" data-stat=\"per90\">0.06</td>,\n",
       " <td class=\"right\" csk=\"0.18\" data-stat=\"per90\">0.18</td>,\n",
       " <td class=\"right\" csk=\"20.80\" data-stat=\"per90\">20.80</td>,\n",
       " <td class=\"right\" csk=\"0.24\" data-stat=\"per90\">0.24</td>,\n",
       " <td class=\"right\" csk=\"0.08\" data-stat=\"per90\">0.08</td>,\n",
       " <td class=\"right\" csk=\"0.10\" data-stat=\"per90\">0.10</td>,\n",
       " <td class=\"right iz\" data-stat=\"per90\" style=\"padding:1px;\"></td>,\n",
       " <td class=\"right\" csk=\"0.29\" data-stat=\"per90\">0.29</td>,\n",
       " <td class=\"right\" csk=\"0.21\" data-stat=\"per90\">0.21</td>,\n",
       " <td class=\"right\" csk=\"0.08\" data-stat=\"per90\">0.08</td>,\n",
       " <td class=\"right\" csk=\"-0.05\" data-stat=\"per90\">-0.05</td>,\n",
       " <td class=\"right\" csk=\"-0.05\" data-stat=\"per90\">-0.05</td>,\n",
       " <td class=\"right\" csk=\"42.13\" data-stat=\"per90\">42.13</td>,\n",
       " <td class=\"right\" csk=\"58.34\" data-stat=\"per90\">58.34</td>,\n",
       " <td class=\"right\" csk=\"72.2\" data-stat=\"per90\">72.2%</td>,\n",
       " <td class=\"right\" csk=\"750.71\" data-stat=\"per90\">750.71</td>,\n",
       " <td class=\"right\" csk=\"281.28\" data-stat=\"per90\">281.28</td>,\n",
       " <td class=\"right iz\" data-stat=\"per90\" style=\"padding:1px;\"></td>,\n",
       " <td class=\"right\" csk=\"20.35\" data-stat=\"per90\">20.35</td>,\n",
       " <td class=\"right\" csk=\"23.69\" data-stat=\"per90\">23.69</td>,\n",
       " <td class=\"right\" csk=\"85.9\" data-stat=\"per90\">85.9%</td>,\n",
       " <td class=\"right iz\" data-stat=\"per90\" style=\"padding:1px;\"></td>,\n",
       " <td class=\"right\" csk=\"14.72\" data-stat=\"per90\">14.72</td>,\n",
       " <td class=\"right\" csk=\"19.03\" data-stat=\"per90\">19.03</td>,\n",
       " <td class=\"right\" csk=\"77.3\" data-stat=\"per90\">77.3%</td>,\n",
       " <td class=\"right iz\" data-stat=\"per90\" style=\"padding:1px;\"></td>,\n",
       " <td class=\"right\" csk=\"5.69\" data-stat=\"per90\">5.69</td>,\n",
       " <td class=\"right\" csk=\"11.10\" data-stat=\"per90\">11.10</td>,\n",
       " <td class=\"right\" csk=\"51.3\" data-stat=\"per90\">51.3%</td>,\n",
       " <td class=\"right\" csk=\"0.30\" data-stat=\"per90\">0.30</td>,\n",
       " <td class=\"right\" csk=\"0.48\" data-stat=\"per90\">0.48</td>,\n",
       " <td class=\"right\" csk=\"0.32\" data-stat=\"per90\">0.32</td>,\n",
       " <td class=\"right\" csk=\"3.20\" data-stat=\"per90\">3.20</td>,\n",
       " <td class=\"right\" csk=\"4.95\" data-stat=\"per90\">4.95</td>,\n",
       " <td class=\"right\" csk=\"2.65\" data-stat=\"per90\">2.65</td>,\n",
       " <td class=\"right\" csk=\"0.32\" data-stat=\"per90\">0.32</td>,\n",
       " <td class=\"right\" csk=\"7.88\" data-stat=\"per90\">7.88</td>,\n",
       " <td class=\"right\" csk=\"58.34\" data-stat=\"per90\">58.34</td>,\n",
       " <td class=\"right iz\" data-stat=\"per90\" style=\"padding:1px;\"></td>,\n",
       " <td class=\"right\" csk=\"51.24\" data-stat=\"per90\">51.24</td>,\n",
       " <td class=\"right\" csk=\"6.64\" data-stat=\"per90\">6.64</td>,\n",
       " <td class=\"right\" csk=\"1.49\" data-stat=\"per90\">1.49</td>,\n",
       " <td class=\"right\" csk=\"0.88\" data-stat=\"per90\">0.88</td>,\n",
       " <td class=\"right\" csk=\"0.90\" data-stat=\"per90\">0.90</td>,\n",
       " <td class=\"right\" csk=\"5.39\" data-stat=\"per90\">5.39</td>,\n",
       " <td class=\"right\" csk=\"0.84\" data-stat=\"per90\">0.84</td>,\n",
       " <td class=\"right\" csk=\"3.38\" data-stat=\"per90\">3.38</td>,\n",
       " <td class=\"right iz\" data-stat=\"per90\" style=\"padding:1px;\"></td>,\n",
       " <td class=\"right\" csk=\"0.86\" data-stat=\"per90\">0.86</td>,\n",
       " <td class=\"right\" csk=\"1.27\" data-stat=\"per90\">1.27</td>,\n",
       " <td class=\"right\" csk=\"0.12\" data-stat=\"per90\">0.12</td>,\n",
       " <td class=\"right iz\" data-stat=\"per90\" style=\"padding:1px;\"></td>,\n",
       " <td class=\"right\" csk=\"42.13\" data-stat=\"per90\">42.13</td>,\n",
       " <td class=\"right\" csk=\"0.46\" data-stat=\"per90\">0.46</td>,\n",
       " <td class=\"right\" csk=\"1.89\" data-stat=\"per90\">1.89</td>,\n",
       " <td class=\"right\" csk=\"6.03\" data-stat=\"per90\">6.03</td>,\n",
       " <td class=\"right iz\" data-stat=\"per90\" style=\"padding:1px;\"></td>,\n",
       " <td class=\"right\" csk=\"4.38\" data-stat=\"per90\">4.38</td>,\n",
       " <td class=\"right\" csk=\"0.93\" data-stat=\"per90\">0.93</td>,\n",
       " <td class=\"right\" csk=\"0.22\" data-stat=\"per90\">0.22</td>,\n",
       " <td class=\"right\" csk=\"0.26\" data-stat=\"per90\">0.26</td>,\n",
       " <td class=\"right\" csk=\"0.20\" data-stat=\"per90\">0.20</td>,\n",
       " <td class=\"right\" csk=\"0.04\" data-stat=\"per90\">0.04</td>,\n",
       " <td class=\"right iz\" data-stat=\"per90\" style=\"padding:1px;\"></td>,\n",
       " <td class=\"right\" csk=\"0.54\" data-stat=\"per90\">0.54</td>,\n",
       " <td class=\"right iz\" data-stat=\"per90\" style=\"padding:1px;\"></td>,\n",
       " <td class=\"right\" csk=\"0.42\" data-stat=\"per90\">0.42</td>,\n",
       " <td class=\"right\" csk=\"0.06\" data-stat=\"per90\">0.06</td>,\n",
       " <td class=\"right\" csk=\"0.04\" data-stat=\"per90\">0.04</td>,\n",
       " <td class=\"right iz\" csk=\"0.00\" data-stat=\"per90\">0.00</td>,\n",
       " <td class=\"right\" csk=\"0.02\" data-stat=\"per90\">0.02</td>,\n",
       " <td class=\"right iz\" csk=\"0.00\" data-stat=\"per90\">0.00</td>,\n",
       " <td class=\"right\" csk=\"1.99\" data-stat=\"per90\">1.99</td>,\n",
       " <td class=\"right\" csk=\"1.13\" data-stat=\"per90\">1.13</td>,\n",
       " <td class=\"right\" csk=\"0.86\" data-stat=\"per90\">0.86</td>,\n",
       " <td class=\"right\" csk=\"0.74\" data-stat=\"per90\">0.74</td>,\n",
       " <td class=\"right\" csk=\"0.40\" data-stat=\"per90\">0.40</td>,\n",
       " <td class=\"right iz\" data-stat=\"per90\" style=\"padding:1px;\"></td>,\n",
       " <td class=\"right\" csk=\"1.03\" data-stat=\"per90\">1.03</td>,\n",
       " <td class=\"right\" csk=\"2.82\" data-stat=\"per90\">2.82</td>,\n",
       " <td class=\"right\" csk=\"36.6\" data-stat=\"per90\">36.6%</td>,\n",
       " <td class=\"right\" csk=\"1.79\" data-stat=\"per90\">1.79</td>,\n",
       " <td class=\"right iz\" data-stat=\"per90\" style=\"padding:1px;\"></td>,\n",
       " <td class=\"right\" csk=\"1.19\" data-stat=\"per90\">1.19</td>,\n",
       " <td class=\"right\" csk=\"0.12\" data-stat=\"per90\">0.12</td>,\n",
       " <td class=\"right\" csk=\"1.07\" data-stat=\"per90\">1.07</td>,\n",
       " <td class=\"right iz\" data-stat=\"per90\" style=\"padding:1px;\"></td>,\n",
       " <td class=\"right\" csk=\"0.60\" data-stat=\"per90\">0.60</td>,\n",
       " <td class=\"right\" csk=\"2.59\" data-stat=\"per90\">2.59</td>,\n",
       " <td class=\"right\" csk=\"1.15\" data-stat=\"per90\">1.15</td>,\n",
       " <td class=\"right\" csk=\"0.04\" data-stat=\"per90\">0.04</td>,\n",
       " <td class=\"right\" csk=\"69.73\" data-stat=\"per90\">69.73</td>,\n",
       " <td class=\"right\" csk=\"2.01\" data-stat=\"per90\">2.01</td>,\n",
       " <td class=\"right\" csk=\"11.26\" data-stat=\"per90\">11.26</td>,\n",
       " <td class=\"right\" csk=\"28.80\" data-stat=\"per90\">28.80</td>,\n",
       " <td class=\"right\" csk=\"30.37\" data-stat=\"per90\">30.37</td>,\n",
       " <td class=\"right\" csk=\"3.72\" data-stat=\"per90\">3.72</td>,\n",
       " <td class=\"right\" csk=\"69.63\" data-stat=\"per90\">69.63</td>,\n",
       " <td class=\"right iz\" data-stat=\"per90\" style=\"padding:1px;\"></td>,\n",
       " <td class=\"right\" csk=\"1.99\" data-stat=\"per90\">1.99</td>,\n",
       " <td class=\"right\" csk=\"0.95\" data-stat=\"per90\">0.95</td>,\n",
       " <td class=\"right\" csk=\"48.0\" data-stat=\"per90\">48.0%</td>,\n",
       " <td class=\"right\" csk=\"0.90\" data-stat=\"per90\">0.90</td>,\n",
       " <td class=\"right\" csk=\"45.0\" data-stat=\"per90\">45.0%</td>,\n",
       " <td class=\"right iz\" data-stat=\"per90\" style=\"padding:1px;\"></td>,\n",
       " <td class=\"right\" csk=\"38.71\" data-stat=\"per90\">38.71</td>,\n",
       " <td class=\"right\" csk=\"165.52\" data-stat=\"per90\">165.52</td>,\n",
       " <td class=\"right\" csk=\"89.90\" data-stat=\"per90\">89.90</td>,\n",
       " <td class=\"right iz\" data-stat=\"per90\" style=\"padding:1px;\"></td>,\n",
       " <td class=\"right\" csk=\"2.19\" data-stat=\"per90\">2.19</td>,\n",
       " <td class=\"right\" csk=\"1.51\" data-stat=\"per90\">1.51</td>,\n",
       " <td class=\"right\" csk=\"0.80\" data-stat=\"per90\">0.80</td>,\n",
       " <td class=\"right\" csk=\"1.59\" data-stat=\"per90\">1.59</td>,\n",
       " <td class=\"right\" csk=\"0.93\" data-stat=\"per90\">0.93</td>,\n",
       " <td class=\"right iz\" data-stat=\"per90\" style=\"padding:1px;\"></td>,\n",
       " <td class=\"right\" csk=\"47.44\" data-stat=\"per90\">47.44</td>,\n",
       " <td class=\"right\" csk=\"5.91\" data-stat=\"per90\">5.91</td>,\n",
       " <td class=\"right\" csk=\"0.22\" data-stat=\"per90\">0.22</td>,\n",
       " <td class=\"right iz\" csk=\"0.00\" data-stat=\"per90\">0.00</td>,\n",
       " <td class=\"right iz\" csk=\"0.00\" data-stat=\"per90\">0.00</td>,\n",
       " <td class=\"right\" csk=\"1.09\" data-stat=\"per90\">1.09</td>,\n",
       " <td class=\"right\" csk=\"0.91\" data-stat=\"per90\">0.91</td>,\n",
       " <td class=\"right\" csk=\"0.28\" data-stat=\"per90\">0.28</td>,\n",
       " <td class=\"right\" csk=\"5.39\" data-stat=\"per90\">5.39</td>,\n",
       " <td class=\"right iz\" data-stat=\"per90\" style=\"padding:1px;\"></td>,\n",
       " <td class=\"right\" csk=\"0.60\" data-stat=\"per90\">0.60</td>,\n",
       " <td class=\"right\" csk=\"1.13\" data-stat=\"per90\">1.13</td>,\n",
       " <td class=\"right\" csk=\"0.02\" data-stat=\"per90\">0.02</td>,\n",
       " <td class=\"right\" csk=\"0.02\" data-stat=\"per90\">0.02</td>,\n",
       " <td class=\"right iz\" csk=\"0.00\" data-stat=\"per90\">0.00</td>,\n",
       " <td class=\"right\" csk=\"6.09\" data-stat=\"per90\">6.09</td>,\n",
       " <td class=\"right iz\" data-stat=\"per90\" style=\"padding:1px;\"></td>,\n",
       " <td class=\"right\" csk=\"0.56\" data-stat=\"per90\">0.56</td>,\n",
       " <td class=\"right\" csk=\"0.84\" data-stat=\"per90\">0.84</td>,\n",
       " <td class=\"right\" csk=\"40.0\" data-stat=\"per90\">40.0%</td>]"
      ]
     },
     "execution_count": 12,
     "metadata": {},
     "output_type": "execute_result"
    }
   ],
   "source": [
    "data_rows.find_all('td',{'class':\"right\"})"
   ]
  },
  {
   "cell_type": "code",
   "execution_count": 13,
   "id": "ac6c828a",
   "metadata": {},
   "outputs": [
    {
     "data": {
      "text/plain": [
       "'0.24'"
      ]
     },
     "execution_count": 13,
     "metadata": {},
     "output_type": "execute_result"
    }
   ],
   "source": [
    "data_rows.find('td',{'class':\"right\"}).text.strip()"
   ]
  },
  {
   "cell_type": "code",
   "execution_count": 14,
   "id": "05d74e34",
   "metadata": {
    "scrolled": true
   },
   "outputs": [],
   "source": [
    "#data_rows.find_all('td',{'class':\"left endpoint endpoint tooltip\"})"
   ]
  },
  {
   "cell_type": "code",
   "execution_count": 15,
   "id": "61840599",
   "metadata": {},
   "outputs": [
    {
     "data": {
      "text/plain": [
       "'49'"
      ]
     },
     "execution_count": 15,
     "metadata": {},
     "output_type": "execute_result"
    }
   ],
   "source": [
    "data_rows.find('td',{'class':\"left endpoint endpoint tooltip\"}).text.strip()"
   ]
  },
  {
   "cell_type": "markdown",
   "id": "8825e174",
   "metadata": {},
   "source": [
    "we have to do some cleaning because  if we test for instance for the \"Proggressive Passes Received\" (per 90 = 8.75, percentile = 79), we see that it works for the stat name and percentile, but not for the per 90 values"
   ]
  },
  {
   "cell_type": "code",
   "execution_count": 16,
   "id": "0a43414d",
   "metadata": {},
   "outputs": [],
   "source": [
    "stats_column = data_rows.find_all('th',{'class':\"right poptip endpoint endpoint\"})"
   ]
  },
  {
   "cell_type": "code",
   "execution_count": 17,
   "id": "3d9e676f",
   "metadata": {},
   "outputs": [],
   "source": [
    "percentile_values = data_rows.find_all('td',{'class':\"left endpoint endpoint tooltip\"})"
   ]
  },
  {
   "cell_type": "code",
   "execution_count": 18,
   "id": "de3865d0",
   "metadata": {
    "scrolled": true
   },
   "outputs": [
    {
     "data": {
      "text/plain": [
       "'Progressive Passes Rec'"
      ]
     },
     "execution_count": 18,
     "metadata": {},
     "output_type": "execute_result"
    }
   ],
   "source": [
    "stats_column[14].text"
   ]
  },
  {
   "cell_type": "code",
   "execution_count": 19,
   "id": "44ffe5f5",
   "metadata": {},
   "outputs": [
    {
     "data": {
      "text/plain": [
       "'18'"
      ]
     },
     "execution_count": 19,
     "metadata": {},
     "output_type": "execute_result"
    }
   ],
   "source": [
    "percentile_values[14].text.strip()"
   ]
  },
  {
   "cell_type": "code",
   "execution_count": 20,
   "id": "a2838b05",
   "metadata": {},
   "outputs": [],
   "source": [
    "per_90 = data_rows.find_all('td',{'class':\"right\"})"
   ]
  },
  {
   "cell_type": "code",
   "execution_count": 21,
   "id": "90438182",
   "metadata": {},
   "outputs": [
    {
     "data": {
      "text/plain": [
       "'7.88'"
      ]
     },
     "execution_count": 21,
     "metadata": {},
     "output_type": "execute_result"
    }
   ],
   "source": [
    "per_90[14].text.strip()"
   ]
  },
  {
   "cell_type": "markdown",
   "id": "9bd998d9",
   "metadata": {},
   "source": [
    "4.09 is the value (per 90) of Progressive passes, which is just before Progressive Passes Rec."
   ]
  },
  {
   "cell_type": "code",
   "execution_count": 22,
   "id": "bf4b2afc",
   "metadata": {},
   "outputs": [
    {
     "data": {
      "text/plain": [
       "'5.91'"
      ]
     },
     "execution_count": 22,
     "metadata": {},
     "output_type": "execute_result"
    }
   ],
   "source": [
    "per_90[15].text.strip()"
   ]
  },
  {
   "cell_type": "markdown",
   "id": "2c5ee1d7",
   "metadata": {},
   "source": [
    "Here's why: there are some empty rows, e.g.:"
   ]
  },
  {
   "cell_type": "code",
   "execution_count": 23,
   "id": "66e9ec61",
   "metadata": {},
   "outputs": [
    {
     "data": {
      "text/plain": [
       "''"
      ]
     },
     "execution_count": 23,
     "metadata": {},
     "output_type": "execute_result"
    }
   ],
   "source": [
    "per_90[12].text.strip()"
   ]
  },
  {
   "cell_type": "markdown",
   "id": "bdf9f220",
   "metadata": {},
   "source": [
    "Here's the issue, looking at the html lines we see that there are lines with class \"right iz\" instead of \"right\", but some of them contain actual per 90 values (=0) but others aren't data rows/lines.  \n",
    "- td class=\"right\" csk=\"0.06\" data-stat=\"per90\">0.06<\n",
    "- td class=\"right iz\" csk=\"0.00\" data-stat=\"per90\">0.00<\n",
    "- td class=\"right iz\" csk=\"0.00\" data-stat=\"per90\">0.00<\n",
    "- **td class=\"right iz\" data-stat=\"per90\" style=\"padding:1px;\"><**\n",
    "- td class=\"right\" csk=\"0.73\" data-stat=\"per90\">0.73<\n",
    "- td class=\"right\" csk=\"0.73\" data-stat=\"per90\">0.73<\n",
    "- td class=\"right\" csk=\"0.19\" data-stat=\"per90\">0.19<  \n",
    " \n",
    "We have to remove only the lines where it's empty! (note: zero isn't empty, it's still a value)"
   ]
  },
  {
   "cell_type": "code",
   "execution_count": 24,
   "id": "c9005174",
   "metadata": {},
   "outputs": [],
   "source": [
    "data2 = data_rows"
   ]
  },
  {
   "cell_type": "code",
   "execution_count": 25,
   "id": "e12b6c85",
   "metadata": {
    "scrolled": true
   },
   "outputs": [],
   "source": [
    "for x in data2.find_all():\n",
    "   if len(x.get_text(strip=True)) == 0:\n",
    "      x.extract()"
   ]
  },
  {
   "cell_type": "code",
   "execution_count": 26,
   "id": "99bec8eb",
   "metadata": {},
   "outputs": [],
   "source": [
    "per_90_values = data2.find_all('td',{'class':\"right\"})"
   ]
  },
  {
   "cell_type": "code",
   "execution_count": 27,
   "id": "4143a055",
   "metadata": {},
   "outputs": [
    {
     "data": {
      "text/plain": [
       "'5.91'"
      ]
     },
     "execution_count": 27,
     "metadata": {},
     "output_type": "execute_result"
    }
   ],
   "source": [
    "per_90_values[14].text.strip()"
   ]
  },
  {
   "cell_type": "code",
   "execution_count": 28,
   "id": "dc4c84b3",
   "metadata": {},
   "outputs": [],
   "source": [
    "stats_column2 = data2.find_all('th',{'class':\"right poptip endpoint endpoint\"})"
   ]
  },
  {
   "cell_type": "code",
   "execution_count": 29,
   "id": "c4302dbf",
   "metadata": {},
   "outputs": [
    {
     "data": {
      "text/plain": [
       "'Progressive Passes Rec'"
      ]
     },
     "execution_count": 29,
     "metadata": {},
     "output_type": "execute_result"
    }
   ],
   "source": [
    "stats_column2[14].text.strip()"
   ]
  },
  {
   "cell_type": "code",
   "execution_count": 30,
   "id": "6fa133ee",
   "metadata": {},
   "outputs": [],
   "source": [
    "percentiles = data2.find_all('td',{'class':\"left endpoint endpoint tooltip\"})"
   ]
  },
  {
   "cell_type": "code",
   "execution_count": 31,
   "id": "7e6e10b3",
   "metadata": {},
   "outputs": [
    {
     "data": {
      "text/plain": [
       "'18'"
      ]
     },
     "execution_count": 31,
     "metadata": {},
     "output_type": "execute_result"
    }
   ],
   "source": [
    "percentiles[14].text.strip()"
   ]
  },
  {
   "cell_type": "markdown",
   "id": "da5d3039",
   "metadata": {},
   "source": [
    "Note: we could dig up more stuff, like the \"high/average/low\" values for each metric, but I'll stick to the three main columns for now...  \n",
    "I'm keeping my first attempt at creating a dataframe (df) below for the sake of documentation, but it led to a dead end..."
   ]
  },
  {
   "cell_type": "code",
   "execution_count": 32,
   "id": "8b2d6eee",
   "metadata": {},
   "outputs": [],
   "source": [
    "df = pd.DataFrame({'Statistic':stats_column2, \"Per 90\": per_90_values, \"Percentile\":percentiles})"
   ]
  },
  {
   "cell_type": "code",
   "execution_count": 33,
   "id": "7ee0654d",
   "metadata": {
    "scrolled": false
   },
   "outputs": [
    {
     "data": {
      "text/html": [
       "<div>\n",
       "<style scoped>\n",
       "    .dataframe tbody tr th:only-of-type {\n",
       "        vertical-align: middle;\n",
       "    }\n",
       "\n",
       "    .dataframe tbody tr th {\n",
       "        vertical-align: top;\n",
       "    }\n",
       "\n",
       "    .dataframe thead th {\n",
       "        text-align: right;\n",
       "    }\n",
       "</style>\n",
       "<table border=\"1\" class=\"dataframe\">\n",
       "  <thead>\n",
       "    <tr style=\"text-align: right;\">\n",
       "      <th></th>\n",
       "      <th>Statistic</th>\n",
       "      <th>Per 90</th>\n",
       "      <th>Percentile</th>\n",
       "    </tr>\n",
       "  </thead>\n",
       "  <tbody>\n",
       "    <tr>\n",
       "      <th>0</th>\n",
       "      <td>[Goals]</td>\n",
       "      <td>[0.24]</td>\n",
       "      <td>[[49],  ,  ]</td>\n",
       "    </tr>\n",
       "    <tr>\n",
       "      <th>1</th>\n",
       "      <td>[Assists]</td>\n",
       "      <td>[0.30]</td>\n",
       "      <td>[[81],  ,  ]</td>\n",
       "    </tr>\n",
       "    <tr>\n",
       "      <th>2</th>\n",
       "      <td>[Goals + Assists]</td>\n",
       "      <td>[0.54]</td>\n",
       "      <td>[[72],  ,  ]</td>\n",
       "    </tr>\n",
       "    <tr>\n",
       "      <th>3</th>\n",
       "      <td>[Non-Penalty Goals]</td>\n",
       "      <td>[0.16]</td>\n",
       "      <td>[[33],  ,  ]</td>\n",
       "    </tr>\n",
       "    <tr>\n",
       "      <th>4</th>\n",
       "      <td>[Penalty Kicks Made]</td>\n",
       "      <td>[0.08]</td>\n",
       "      <td>[[89],  ,  ]</td>\n",
       "    </tr>\n",
       "    <tr>\n",
       "      <th>...</th>\n",
       "      <td>...</td>\n",
       "      <td>...</td>\n",
       "      <td>...</td>\n",
       "    </tr>\n",
       "    <tr>\n",
       "      <th>130</th>\n",
       "      <td>[Own Goals]</td>\n",
       "      <td>[0.00]</td>\n",
       "      <td>[[50],  ,  ]</td>\n",
       "    </tr>\n",
       "    <tr>\n",
       "      <th>131</th>\n",
       "      <td>[Ball Recoveries]</td>\n",
       "      <td>[6.09]</td>\n",
       "      <td>[[93],  ,  ]</td>\n",
       "    </tr>\n",
       "    <tr>\n",
       "      <th>132</th>\n",
       "      <td>[Aerials Won]</td>\n",
       "      <td>[0.56]</td>\n",
       "      <td>[[54],  ,  ]</td>\n",
       "    </tr>\n",
       "    <tr>\n",
       "      <th>133</th>\n",
       "      <td>[Aerials Lost]</td>\n",
       "      <td>[0.84]</td>\n",
       "      <td>[[61],  ,  ]</td>\n",
       "    </tr>\n",
       "    <tr>\n",
       "      <th>134</th>\n",
       "      <td>[% of Aerials Won]</td>\n",
       "      <td>[40.0%]</td>\n",
       "      <td>[[67],  ,  ]</td>\n",
       "    </tr>\n",
       "  </tbody>\n",
       "</table>\n",
       "<p>135 rows × 3 columns</p>\n",
       "</div>"
      ],
      "text/plain": [
       "                Statistic   Per 90    Percentile\n",
       "0                 [Goals]   [0.24]  [[49],  ,  ]\n",
       "1               [Assists]   [0.30]  [[81],  ,  ]\n",
       "2       [Goals + Assists]   [0.54]  [[72],  ,  ]\n",
       "3     [Non-Penalty Goals]   [0.16]  [[33],  ,  ]\n",
       "4    [Penalty Kicks Made]   [0.08]  [[89],  ,  ]\n",
       "..                    ...      ...           ...\n",
       "130           [Own Goals]   [0.00]  [[50],  ,  ]\n",
       "131     [Ball Recoveries]   [6.09]  [[93],  ,  ]\n",
       "132         [Aerials Won]   [0.56]  [[54],  ,  ]\n",
       "133        [Aerials Lost]   [0.84]  [[61],  ,  ]\n",
       "134    [% of Aerials Won]  [40.0%]  [[67],  ,  ]\n",
       "\n",
       "[135 rows x 3 columns]"
      ]
     },
     "execution_count": 33,
     "metadata": {},
     "output_type": "execute_result"
    }
   ],
   "source": [
    "df"
   ]
  },
  {
   "cell_type": "code",
   "execution_count": 34,
   "id": "03cd68f1",
   "metadata": {},
   "outputs": [
    {
     "data": {
      "text/html": [
       "<div>\n",
       "<style scoped>\n",
       "    .dataframe tbody tr th:only-of-type {\n",
       "        vertical-align: middle;\n",
       "    }\n",
       "\n",
       "    .dataframe tbody tr th {\n",
       "        vertical-align: top;\n",
       "    }\n",
       "\n",
       "    .dataframe thead th {\n",
       "        text-align: right;\n",
       "    }\n",
       "</style>\n",
       "<table border=\"1\" class=\"dataframe\">\n",
       "  <thead>\n",
       "    <tr style=\"text-align: right;\">\n",
       "      <th></th>\n",
       "      <th>Statistic</th>\n",
       "      <th>Per 90</th>\n",
       "      <th>Percentile</th>\n",
       "    </tr>\n",
       "  </thead>\n",
       "  <tbody>\n",
       "    <tr>\n",
       "      <th>0</th>\n",
       "      <td>&lt;th class=\"right poptip endpoint endpoint\" dat...</td>\n",
       "      <td>&lt;td class=\"right\" csk=\"0.24\" data-stat=\"per90\"...</td>\n",
       "      <td>&lt;td class=\"left endpoint endpoint tooltip\" csk...</td>\n",
       "    </tr>\n",
       "    <tr>\n",
       "      <th>1</th>\n",
       "      <td>&lt;th class=\"right poptip endpoint endpoint\" dat...</td>\n",
       "      <td>&lt;td class=\"right\" csk=\"0.30\" data-stat=\"per90\"...</td>\n",
       "      <td>&lt;td class=\"left endpoint endpoint tooltip\" csk...</td>\n",
       "    </tr>\n",
       "    <tr>\n",
       "      <th>2</th>\n",
       "      <td>&lt;th class=\"right poptip endpoint endpoint\" dat...</td>\n",
       "      <td>&lt;td class=\"right\" csk=\"0.54\" data-stat=\"per90\"...</td>\n",
       "      <td>&lt;td class=\"left endpoint endpoint tooltip\" csk...</td>\n",
       "    </tr>\n",
       "    <tr>\n",
       "      <th>3</th>\n",
       "      <td>&lt;th class=\"right poptip endpoint endpoint\" dat...</td>\n",
       "      <td>&lt;td class=\"right\" csk=\"0.16\" data-stat=\"per90\"...</td>\n",
       "      <td>&lt;td class=\"left endpoint endpoint tooltip\" csk...</td>\n",
       "    </tr>\n",
       "    <tr>\n",
       "      <th>4</th>\n",
       "      <td>&lt;th class=\"right poptip endpoint endpoint\" dat...</td>\n",
       "      <td>&lt;td class=\"right\" csk=\"0.08\" data-stat=\"per90\"...</td>\n",
       "      <td>&lt;td class=\"left endpoint endpoint tooltip\" csk...</td>\n",
       "    </tr>\n",
       "    <tr>\n",
       "      <th>...</th>\n",
       "      <td>...</td>\n",
       "      <td>...</td>\n",
       "      <td>...</td>\n",
       "    </tr>\n",
       "    <tr>\n",
       "      <th>130</th>\n",
       "      <td>&lt;th class=\"right poptip endpoint endpoint\" dat...</td>\n",
       "      <td>&lt;td class=\"right iz\" csk=\"0.00\" data-stat=\"per...</td>\n",
       "      <td>&lt;td class=\"left endpoint endpoint tooltip\" csk...</td>\n",
       "    </tr>\n",
       "    <tr>\n",
       "      <th>131</th>\n",
       "      <td>&lt;th class=\"right poptip endpoint endpoint\" dat...</td>\n",
       "      <td>&lt;td class=\"right\" csk=\"6.09\" data-stat=\"per90\"...</td>\n",
       "      <td>&lt;td class=\"left endpoint endpoint tooltip\" csk...</td>\n",
       "    </tr>\n",
       "    <tr>\n",
       "      <th>132</th>\n",
       "      <td>&lt;th class=\"right poptip endpoint endpoint\" dat...</td>\n",
       "      <td>&lt;td class=\"right\" csk=\"0.56\" data-stat=\"per90\"...</td>\n",
       "      <td>&lt;td class=\"left endpoint endpoint tooltip\" csk...</td>\n",
       "    </tr>\n",
       "    <tr>\n",
       "      <th>133</th>\n",
       "      <td>&lt;th class=\"right poptip endpoint endpoint\" dat...</td>\n",
       "      <td>&lt;td class=\"right\" csk=\"0.84\" data-stat=\"per90\"...</td>\n",
       "      <td>&lt;td class=\"left endpoint endpoint tooltip\" csk...</td>\n",
       "    </tr>\n",
       "    <tr>\n",
       "      <th>134</th>\n",
       "      <td>&lt;th class=\"right poptip endpoint endpoint\" dat...</td>\n",
       "      <td>&lt;td class=\"right\" csk=\"40.0\" data-stat=\"per90\"...</td>\n",
       "      <td>&lt;td class=\"left endpoint endpoint tooltip\" csk...</td>\n",
       "    </tr>\n",
       "  </tbody>\n",
       "</table>\n",
       "<p>135 rows × 3 columns</p>\n",
       "</div>"
      ],
      "text/plain": [
       "                                             Statistic  \\\n",
       "0    <th class=\"right poptip endpoint endpoint\" dat...   \n",
       "1    <th class=\"right poptip endpoint endpoint\" dat...   \n",
       "2    <th class=\"right poptip endpoint endpoint\" dat...   \n",
       "3    <th class=\"right poptip endpoint endpoint\" dat...   \n",
       "4    <th class=\"right poptip endpoint endpoint\" dat...   \n",
       "..                                                 ...   \n",
       "130  <th class=\"right poptip endpoint endpoint\" dat...   \n",
       "131  <th class=\"right poptip endpoint endpoint\" dat...   \n",
       "132  <th class=\"right poptip endpoint endpoint\" dat...   \n",
       "133  <th class=\"right poptip endpoint endpoint\" dat...   \n",
       "134  <th class=\"right poptip endpoint endpoint\" dat...   \n",
       "\n",
       "                                                Per 90  \\\n",
       "0    <td class=\"right\" csk=\"0.24\" data-stat=\"per90\"...   \n",
       "1    <td class=\"right\" csk=\"0.30\" data-stat=\"per90\"...   \n",
       "2    <td class=\"right\" csk=\"0.54\" data-stat=\"per90\"...   \n",
       "3    <td class=\"right\" csk=\"0.16\" data-stat=\"per90\"...   \n",
       "4    <td class=\"right\" csk=\"0.08\" data-stat=\"per90\"...   \n",
       "..                                                 ...   \n",
       "130  <td class=\"right iz\" csk=\"0.00\" data-stat=\"per...   \n",
       "131  <td class=\"right\" csk=\"6.09\" data-stat=\"per90\"...   \n",
       "132  <td class=\"right\" csk=\"0.56\" data-stat=\"per90\"...   \n",
       "133  <td class=\"right\" csk=\"0.84\" data-stat=\"per90\"...   \n",
       "134  <td class=\"right\" csk=\"40.0\" data-stat=\"per90\"...   \n",
       "\n",
       "                                            Percentile  \n",
       "0    <td class=\"left endpoint endpoint tooltip\" csk...  \n",
       "1    <td class=\"left endpoint endpoint tooltip\" csk...  \n",
       "2    <td class=\"left endpoint endpoint tooltip\" csk...  \n",
       "3    <td class=\"left endpoint endpoint tooltip\" csk...  \n",
       "4    <td class=\"left endpoint endpoint tooltip\" csk...  \n",
       "..                                                 ...  \n",
       "130  <td class=\"left endpoint endpoint tooltip\" csk...  \n",
       "131  <td class=\"left endpoint endpoint tooltip\" csk...  \n",
       "132  <td class=\"left endpoint endpoint tooltip\" csk...  \n",
       "133  <td class=\"left endpoint endpoint tooltip\" csk...  \n",
       "134  <td class=\"left endpoint endpoint tooltip\" csk...  \n",
       "\n",
       "[135 rows x 3 columns]"
      ]
     },
     "execution_count": 34,
     "metadata": {},
     "output_type": "execute_result"
    }
   ],
   "source": [
    "#note: this is relevant because it what you'd get in the csv file if you saved that dataframe into that format...\n",
    "df.astype(str)"
   ]
  },
  {
   "cell_type": "markdown",
   "id": "355988b5",
   "metadata": {},
   "source": [
    "**The solution is just to 1) create one dataframe per column, and then 2) combine them into a final dataframe with the three columns**"
   ]
  },
  {
   "cell_type": "code",
   "execution_count": 35,
   "id": "48574de9",
   "metadata": {},
   "outputs": [],
   "source": [
    "stats = pd.DataFrame(stats_column2)"
   ]
  },
  {
   "cell_type": "code",
   "execution_count": 36,
   "id": "d9986d81",
   "metadata": {},
   "outputs": [
    {
     "data": {
      "text/html": [
       "<div>\n",
       "<style scoped>\n",
       "    .dataframe tbody tr th:only-of-type {\n",
       "        vertical-align: middle;\n",
       "    }\n",
       "\n",
       "    .dataframe tbody tr th {\n",
       "        vertical-align: top;\n",
       "    }\n",
       "\n",
       "    .dataframe thead th {\n",
       "        text-align: right;\n",
       "    }\n",
       "</style>\n",
       "<table border=\"1\" class=\"dataframe\">\n",
       "  <thead>\n",
       "    <tr style=\"text-align: right;\">\n",
       "      <th></th>\n",
       "      <th>0</th>\n",
       "    </tr>\n",
       "  </thead>\n",
       "  <tbody>\n",
       "    <tr>\n",
       "      <th>0</th>\n",
       "      <td>Goals</td>\n",
       "    </tr>\n",
       "    <tr>\n",
       "      <th>1</th>\n",
       "      <td>Assists</td>\n",
       "    </tr>\n",
       "    <tr>\n",
       "      <th>2</th>\n",
       "      <td>Goals + Assists</td>\n",
       "    </tr>\n",
       "    <tr>\n",
       "      <th>3</th>\n",
       "      <td>Non-Penalty Goals</td>\n",
       "    </tr>\n",
       "    <tr>\n",
       "      <th>4</th>\n",
       "      <td>Penalty Kicks Made</td>\n",
       "    </tr>\n",
       "    <tr>\n",
       "      <th>...</th>\n",
       "      <td>...</td>\n",
       "    </tr>\n",
       "    <tr>\n",
       "      <th>130</th>\n",
       "      <td>Own Goals</td>\n",
       "    </tr>\n",
       "    <tr>\n",
       "      <th>131</th>\n",
       "      <td>Ball Recoveries</td>\n",
       "    </tr>\n",
       "    <tr>\n",
       "      <th>132</th>\n",
       "      <td>Aerials Won</td>\n",
       "    </tr>\n",
       "    <tr>\n",
       "      <th>133</th>\n",
       "      <td>Aerials Lost</td>\n",
       "    </tr>\n",
       "    <tr>\n",
       "      <th>134</th>\n",
       "      <td>% of Aerials Won</td>\n",
       "    </tr>\n",
       "  </tbody>\n",
       "</table>\n",
       "<p>135 rows × 1 columns</p>\n",
       "</div>"
      ],
      "text/plain": [
       "                      0\n",
       "0                 Goals\n",
       "1               Assists\n",
       "2       Goals + Assists\n",
       "3     Non-Penalty Goals\n",
       "4    Penalty Kicks Made\n",
       "..                  ...\n",
       "130           Own Goals\n",
       "131     Ball Recoveries\n",
       "132         Aerials Won\n",
       "133        Aerials Lost\n",
       "134    % of Aerials Won\n",
       "\n",
       "[135 rows x 1 columns]"
      ]
     },
     "execution_count": 36,
     "metadata": {},
     "output_type": "execute_result"
    }
   ],
   "source": [
    "stats"
   ]
  },
  {
   "cell_type": "code",
   "execution_count": 37,
   "id": "7a61ffd2",
   "metadata": {},
   "outputs": [],
   "source": [
    "values_per90 = pd.DataFrame(per_90_values)"
   ]
  },
  {
   "cell_type": "code",
   "execution_count": 38,
   "id": "69317a69",
   "metadata": {},
   "outputs": [
    {
     "data": {
      "text/html": [
       "<div>\n",
       "<style scoped>\n",
       "    .dataframe tbody tr th:only-of-type {\n",
       "        vertical-align: middle;\n",
       "    }\n",
       "\n",
       "    .dataframe tbody tr th {\n",
       "        vertical-align: top;\n",
       "    }\n",
       "\n",
       "    .dataframe thead th {\n",
       "        text-align: right;\n",
       "    }\n",
       "</style>\n",
       "<table border=\"1\" class=\"dataframe\">\n",
       "  <thead>\n",
       "    <tr style=\"text-align: right;\">\n",
       "      <th></th>\n",
       "      <th>0</th>\n",
       "    </tr>\n",
       "  </thead>\n",
       "  <tbody>\n",
       "    <tr>\n",
       "      <th>0</th>\n",
       "      <td>0.24</td>\n",
       "    </tr>\n",
       "    <tr>\n",
       "      <th>1</th>\n",
       "      <td>0.30</td>\n",
       "    </tr>\n",
       "    <tr>\n",
       "      <th>2</th>\n",
       "      <td>0.54</td>\n",
       "    </tr>\n",
       "    <tr>\n",
       "      <th>3</th>\n",
       "      <td>0.16</td>\n",
       "    </tr>\n",
       "    <tr>\n",
       "      <th>4</th>\n",
       "      <td>0.08</td>\n",
       "    </tr>\n",
       "    <tr>\n",
       "      <th>...</th>\n",
       "      <td>...</td>\n",
       "    </tr>\n",
       "    <tr>\n",
       "      <th>130</th>\n",
       "      <td>0.00</td>\n",
       "    </tr>\n",
       "    <tr>\n",
       "      <th>131</th>\n",
       "      <td>6.09</td>\n",
       "    </tr>\n",
       "    <tr>\n",
       "      <th>132</th>\n",
       "      <td>0.56</td>\n",
       "    </tr>\n",
       "    <tr>\n",
       "      <th>133</th>\n",
       "      <td>0.84</td>\n",
       "    </tr>\n",
       "    <tr>\n",
       "      <th>134</th>\n",
       "      <td>40.0%</td>\n",
       "    </tr>\n",
       "  </tbody>\n",
       "</table>\n",
       "<p>135 rows × 1 columns</p>\n",
       "</div>"
      ],
      "text/plain": [
       "         0\n",
       "0     0.24\n",
       "1     0.30\n",
       "2     0.54\n",
       "3     0.16\n",
       "4     0.08\n",
       "..     ...\n",
       "130   0.00\n",
       "131   6.09\n",
       "132   0.56\n",
       "133   0.84\n",
       "134  40.0%\n",
       "\n",
       "[135 rows x 1 columns]"
      ]
     },
     "execution_count": 38,
     "metadata": {},
     "output_type": "execute_result"
    }
   ],
   "source": [
    "values_per90"
   ]
  },
  {
   "cell_type": "markdown",
   "id": "db753569",
   "metadata": {},
   "source": [
    "*percentile = pd.DataFrame(percentiles)* doesn't work, we have to iterate through *percentiles*, and create a list out of the text output for each line, and then we create a dataframe from that list"
   ]
  },
  {
   "cell_type": "code",
   "execution_count": 39,
   "id": "59c71e90",
   "metadata": {},
   "outputs": [
    {
     "name": "stdout",
     "output_type": "stream",
     "text": [
      "49\n",
      "81\n",
      "72\n",
      "33\n",
      "89\n",
      "88\n",
      "26\n",
      "57\n",
      "71\n",
      "54\n",
      "99\n",
      "97\n",
      "16\n",
      "99\n",
      "18\n",
      "49\n",
      "73\n",
      "62\n",
      "44\n",
      "21\n",
      "23\n",
      "15\n",
      "85\n",
      "89\n",
      "88\n",
      "71\n",
      "54\n",
      "24\n",
      "27\n",
      "29\n",
      "93\n",
      "95\n",
      "30\n",
      "95\n",
      "99\n",
      "83\n",
      "86\n",
      "56\n",
      "94\n",
      "95\n",
      "49\n",
      "99\n",
      "98\n",
      "47\n",
      "81\n",
      "99\n",
      "95\n",
      "97\n",
      "96\n",
      "96\n",
      "62\n",
      "99\n",
      "95\n",
      "93\n",
      "89\n",
      "81\n",
      "98\n",
      "95\n",
      "83\n",
      "78\n",
      "89\n",
      "71\n",
      "84\n",
      "97\n",
      "93\n",
      "5\n",
      "5\n",
      "98\n",
      "98\n",
      "82\n",
      "30\n",
      "59\n",
      "54\n",
      "52\n",
      "72\n",
      "85\n",
      "83\n",
      "55\n",
      "21\n",
      "48\n",
      "44\n",
      "89\n",
      "83\n",
      "95\n",
      "77\n",
      "78\n",
      "96\n",
      "98\n",
      "54\n",
      "4\n",
      "73\n",
      "87\n",
      "68\n",
      "73\n",
      "85\n",
      "97\n",
      "8\n",
      "95\n",
      "99\n",
      "98\n",
      "89\n",
      "81\n",
      "42\n",
      "95\n",
      "11\n",
      "14\n",
      "67\n",
      "88\n",
      "43\n",
      "75\n",
      "17\n",
      "35\n",
      "16\n",
      "12\n",
      "32\n",
      "91\n",
      "90\n",
      "90\n",
      "18\n",
      "26\n",
      "57\n",
      "53\n",
      "40\n",
      "12\n",
      "45\n",
      "83\n",
      "73\n",
      "83\n",
      "54\n",
      "11\n",
      "50\n",
      "93\n",
      "54\n",
      "61\n",
      "67\n"
     ]
    }
   ],
   "source": [
    "#After a lot of trial and error, this is how I first found a solution to how to select only the text part of each line \n",
    "#from the percentiles set -> iterate via for loop\n",
    "#it's necessary to use strip() because for some reason the values are arrays with the two spaces \"  \" added after the numerical\n",
    "#value (for percentiles) we're looking for...\n",
    "for each in percentiles:\n",
    "    print(each.text.strip())"
   ]
  },
  {
   "cell_type": "code",
   "execution_count": 40,
   "id": "a8aacffa",
   "metadata": {},
   "outputs": [],
   "source": [
    "#but this is the loop we're gonna use, to create a list with all this data\n",
    "#creating new (empty) list\n",
    "percentile_list = []\n",
    "#we get the (stripped) text value for each line of the percentiles set, and add it all into the new list\n",
    "for each in percentiles:\n",
    "    percentile_list.append(each.text.strip())"
   ]
  },
  {
   "cell_type": "code",
   "execution_count": 41,
   "id": "6fdb7cce",
   "metadata": {},
   "outputs": [
    {
     "data": {
      "text/plain": [
       "['49',\n",
       " '81',\n",
       " '72',\n",
       " '33',\n",
       " '89',\n",
       " '88',\n",
       " '26',\n",
       " '57',\n",
       " '71',\n",
       " '54',\n",
       " '99',\n",
       " '97',\n",
       " '16',\n",
       " '99',\n",
       " '18',\n",
       " '49',\n",
       " '73',\n",
       " '62',\n",
       " '44',\n",
       " '21',\n",
       " '23',\n",
       " '15',\n",
       " '85',\n",
       " '89',\n",
       " '88',\n",
       " '71',\n",
       " '54',\n",
       " '24',\n",
       " '27',\n",
       " '29',\n",
       " '93',\n",
       " '95',\n",
       " '30',\n",
       " '95',\n",
       " '99',\n",
       " '83',\n",
       " '86',\n",
       " '56',\n",
       " '94',\n",
       " '95',\n",
       " '49',\n",
       " '99',\n",
       " '98',\n",
       " '47',\n",
       " '81',\n",
       " '99',\n",
       " '95',\n",
       " '97',\n",
       " '96',\n",
       " '96',\n",
       " '62',\n",
       " '99',\n",
       " '95',\n",
       " '93',\n",
       " '89',\n",
       " '81',\n",
       " '98',\n",
       " '95',\n",
       " '83',\n",
       " '78',\n",
       " '89',\n",
       " '71',\n",
       " '84',\n",
       " '97',\n",
       " '93',\n",
       " '5',\n",
       " '5',\n",
       " '98',\n",
       " '98',\n",
       " '82',\n",
       " '30',\n",
       " '59',\n",
       " '54',\n",
       " '52',\n",
       " '72',\n",
       " '85',\n",
       " '83',\n",
       " '55',\n",
       " '21',\n",
       " '48',\n",
       " '44',\n",
       " '89',\n",
       " '83',\n",
       " '95',\n",
       " '77',\n",
       " '78',\n",
       " '96',\n",
       " '98',\n",
       " '54',\n",
       " '4',\n",
       " '73',\n",
       " '87',\n",
       " '68',\n",
       " '73',\n",
       " '85',\n",
       " '97',\n",
       " '8',\n",
       " '95',\n",
       " '99',\n",
       " '98',\n",
       " '89',\n",
       " '81',\n",
       " '42',\n",
       " '95',\n",
       " '11',\n",
       " '14',\n",
       " '67',\n",
       " '88',\n",
       " '43',\n",
       " '75',\n",
       " '17',\n",
       " '35',\n",
       " '16',\n",
       " '12',\n",
       " '32',\n",
       " '91',\n",
       " '90',\n",
       " '90',\n",
       " '18',\n",
       " '26',\n",
       " '57',\n",
       " '53',\n",
       " '40',\n",
       " '12',\n",
       " '45',\n",
       " '83',\n",
       " '73',\n",
       " '83',\n",
       " '54',\n",
       " '11',\n",
       " '50',\n",
       " '93',\n",
       " '54',\n",
       " '61',\n",
       " '67']"
      ]
     },
     "execution_count": 41,
     "metadata": {},
     "output_type": "execute_result"
    }
   ],
   "source": [
    "percentile_list"
   ]
  },
  {
   "cell_type": "code",
   "execution_count": 42,
   "id": "957c7c2b",
   "metadata": {},
   "outputs": [],
   "source": [
    "#turning the list into a dataframe\n",
    "percentileS = pd.DataFrame(percentile_list)"
   ]
  },
  {
   "cell_type": "code",
   "execution_count": 43,
   "id": "00dcb79c",
   "metadata": {},
   "outputs": [
    {
     "data": {
      "text/html": [
       "<div>\n",
       "<style scoped>\n",
       "    .dataframe tbody tr th:only-of-type {\n",
       "        vertical-align: middle;\n",
       "    }\n",
       "\n",
       "    .dataframe tbody tr th {\n",
       "        vertical-align: top;\n",
       "    }\n",
       "\n",
       "    .dataframe thead th {\n",
       "        text-align: right;\n",
       "    }\n",
       "</style>\n",
       "<table border=\"1\" class=\"dataframe\">\n",
       "  <thead>\n",
       "    <tr style=\"text-align: right;\">\n",
       "      <th></th>\n",
       "      <th>0</th>\n",
       "    </tr>\n",
       "  </thead>\n",
       "  <tbody>\n",
       "    <tr>\n",
       "      <th>0</th>\n",
       "      <td>49</td>\n",
       "    </tr>\n",
       "    <tr>\n",
       "      <th>1</th>\n",
       "      <td>81</td>\n",
       "    </tr>\n",
       "    <tr>\n",
       "      <th>2</th>\n",
       "      <td>72</td>\n",
       "    </tr>\n",
       "    <tr>\n",
       "      <th>3</th>\n",
       "      <td>33</td>\n",
       "    </tr>\n",
       "    <tr>\n",
       "      <th>4</th>\n",
       "      <td>89</td>\n",
       "    </tr>\n",
       "    <tr>\n",
       "      <th>...</th>\n",
       "      <td>...</td>\n",
       "    </tr>\n",
       "    <tr>\n",
       "      <th>130</th>\n",
       "      <td>50</td>\n",
       "    </tr>\n",
       "    <tr>\n",
       "      <th>131</th>\n",
       "      <td>93</td>\n",
       "    </tr>\n",
       "    <tr>\n",
       "      <th>132</th>\n",
       "      <td>54</td>\n",
       "    </tr>\n",
       "    <tr>\n",
       "      <th>133</th>\n",
       "      <td>61</td>\n",
       "    </tr>\n",
       "    <tr>\n",
       "      <th>134</th>\n",
       "      <td>67</td>\n",
       "    </tr>\n",
       "  </tbody>\n",
       "</table>\n",
       "<p>135 rows × 1 columns</p>\n",
       "</div>"
      ],
      "text/plain": [
       "      0\n",
       "0    49\n",
       "1    81\n",
       "2    72\n",
       "3    33\n",
       "4    89\n",
       "..   ..\n",
       "130  50\n",
       "131  93\n",
       "132  54\n",
       "133  61\n",
       "134  67\n",
       "\n",
       "[135 rows x 1 columns]"
      ]
     },
     "execution_count": 43,
     "metadata": {},
     "output_type": "execute_result"
    }
   ],
   "source": [
    "percentileS"
   ]
  },
  {
   "cell_type": "code",
   "execution_count": 44,
   "id": "e4ebc973",
   "metadata": {},
   "outputs": [],
   "source": [
    "#columns of the three dataframes aren't named so we add column names here\n",
    "stats.columns = ['Statistic']\n",
    "values_per90.columns = ['Per 90']\n",
    "percentileS.columns = ['Percentile']\n",
    "#putting all three together into a single final dataframe\n",
    "scouting_report = pd.concat([stats,values_per90,percentileS],axis=1,join='inner')"
   ]
  },
  {
   "cell_type": "code",
   "execution_count": 45,
   "id": "7e48e6a7",
   "metadata": {},
   "outputs": [
    {
     "data": {
      "text/html": [
       "<div>\n",
       "<style scoped>\n",
       "    .dataframe tbody tr th:only-of-type {\n",
       "        vertical-align: middle;\n",
       "    }\n",
       "\n",
       "    .dataframe tbody tr th {\n",
       "        vertical-align: top;\n",
       "    }\n",
       "\n",
       "    .dataframe thead th {\n",
       "        text-align: right;\n",
       "    }\n",
       "</style>\n",
       "<table border=\"1\" class=\"dataframe\">\n",
       "  <thead>\n",
       "    <tr style=\"text-align: right;\">\n",
       "      <th></th>\n",
       "      <th>Statistic</th>\n",
       "      <th>Per 90</th>\n",
       "      <th>Percentile</th>\n",
       "    </tr>\n",
       "  </thead>\n",
       "  <tbody>\n",
       "    <tr>\n",
       "      <th>0</th>\n",
       "      <td>Goals</td>\n",
       "      <td>0.24</td>\n",
       "      <td>49</td>\n",
       "    </tr>\n",
       "    <tr>\n",
       "      <th>1</th>\n",
       "      <td>Assists</td>\n",
       "      <td>0.30</td>\n",
       "      <td>81</td>\n",
       "    </tr>\n",
       "    <tr>\n",
       "      <th>2</th>\n",
       "      <td>Goals + Assists</td>\n",
       "      <td>0.54</td>\n",
       "      <td>72</td>\n",
       "    </tr>\n",
       "    <tr>\n",
       "      <th>3</th>\n",
       "      <td>Non-Penalty Goals</td>\n",
       "      <td>0.16</td>\n",
       "      <td>33</td>\n",
       "    </tr>\n",
       "    <tr>\n",
       "      <th>4</th>\n",
       "      <td>Penalty Kicks Made</td>\n",
       "      <td>0.08</td>\n",
       "      <td>89</td>\n",
       "    </tr>\n",
       "    <tr>\n",
       "      <th>...</th>\n",
       "      <td>...</td>\n",
       "      <td>...</td>\n",
       "      <td>...</td>\n",
       "    </tr>\n",
       "    <tr>\n",
       "      <th>130</th>\n",
       "      <td>Own Goals</td>\n",
       "      <td>0.00</td>\n",
       "      <td>50</td>\n",
       "    </tr>\n",
       "    <tr>\n",
       "      <th>131</th>\n",
       "      <td>Ball Recoveries</td>\n",
       "      <td>6.09</td>\n",
       "      <td>93</td>\n",
       "    </tr>\n",
       "    <tr>\n",
       "      <th>132</th>\n",
       "      <td>Aerials Won</td>\n",
       "      <td>0.56</td>\n",
       "      <td>54</td>\n",
       "    </tr>\n",
       "    <tr>\n",
       "      <th>133</th>\n",
       "      <td>Aerials Lost</td>\n",
       "      <td>0.84</td>\n",
       "      <td>61</td>\n",
       "    </tr>\n",
       "    <tr>\n",
       "      <th>134</th>\n",
       "      <td>% of Aerials Won</td>\n",
       "      <td>40.0%</td>\n",
       "      <td>67</td>\n",
       "    </tr>\n",
       "  </tbody>\n",
       "</table>\n",
       "<p>135 rows × 3 columns</p>\n",
       "</div>"
      ],
      "text/plain": [
       "              Statistic Per 90 Percentile\n",
       "0                 Goals   0.24         49\n",
       "1               Assists   0.30         81\n",
       "2       Goals + Assists   0.54         72\n",
       "3     Non-Penalty Goals   0.16         33\n",
       "4    Penalty Kicks Made   0.08         89\n",
       "..                  ...    ...        ...\n",
       "130           Own Goals   0.00         50\n",
       "131     Ball Recoveries   6.09         93\n",
       "132         Aerials Won   0.56         54\n",
       "133        Aerials Lost   0.84         61\n",
       "134    % of Aerials Won  40.0%         67\n",
       "\n",
       "[135 rows x 3 columns]"
      ]
     },
     "execution_count": 45,
     "metadata": {},
     "output_type": "execute_result"
    }
   ],
   "source": [
    "scouting_report"
   ]
  },
  {
   "cell_type": "code",
   "execution_count": 46,
   "id": "39a8a147",
   "metadata": {},
   "outputs": [],
   "source": [
    "#save to csv\n",
    "scouting_report.to_csv('Bruno Fernandes FBRef Report.csv',index=False)"
   ]
  }
 ],
 "metadata": {
  "kernelspec": {
   "display_name": "Python 3 (ipykernel)",
   "language": "python",
   "name": "python3"
  },
  "language_info": {
   "codemirror_mode": {
    "name": "ipython",
    "version": 3
   },
   "file_extension": ".py",
   "mimetype": "text/x-python",
   "name": "python",
   "nbconvert_exporter": "python",
   "pygments_lexer": "ipython3",
   "version": "3.11.5"
  }
 },
 "nbformat": 4,
 "nbformat_minor": 5
}
